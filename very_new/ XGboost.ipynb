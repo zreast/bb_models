{
 "cells": [
  {
   "cell_type": "code",
   "execution_count": 2,
   "metadata": {},
   "outputs": [
    {
     "name": "stdout",
     "output_type": "stream",
     "text": [
      "Average RMSE 10 fold cross validation Xg: 6.018278\n",
      "Average Xg Leave one out : 5.134629\n",
      "RMSE Vet : 7.503460\n",
      "Index(['Weight', 'PCV', 'PCV\\ndonor', 'Volume'], dtype='object')\n"
     ]
    }
   ],
   "source": [
    "from sklearn.model_selection import KFold\n",
    "from sklearn import metrics\n",
    "import numpy as np\n",
    "import pandas as pd\n",
    "import matplotlib.pyplot as plt\n",
    "import seaborn as sns\n",
    "from sklearn.preprocessing import StandardScaler\n",
    "# from sklearn.linear_model import LinearRegression\n",
    "from sklearn import ensemble\n",
    "df = pd.read_csv('data.csv')\n",
    "X = df[['Weight','PCV','PCV\\ndonor','Volume']]\n",
    "# print(X.columns)\n",
    "Vet = df[['PCV_target']]\n",
    "# X = df[['Weight','PCV','PCV\\ndonor','Volume','WBC','HGB','RBC','MCV','MCHC','MCH','SEGS','LYMPH']]\n",
    "# X = df[['Weight', 'PCV', 'PCV\\ndonor', 'Volume', 'WBC', 'PLT\\n______', 'PLATELETS', 'HGB', 'RBC', 'MCV', 'MCHC', 'MCH',\n",
    "#         'SEGS', 'LYMPH', 'MONO', 'PROTEIN (REFRACT)', 'RDW']]\n",
    "y = df['PCV_afterdonation']\n",
    "column_name = X.columns\n",
    "X = np.array(X)\n",
    "# y = df['attack']\n",
    "y = np.array(y)\n",
    "Vet = np.array(Vet)\n",
    "\n",
    "\n",
    "scaler = StandardScaler()\n",
    "scaler.fit(X)\n",
    "X = scaler.transform(X)\n",
    "\n",
    "\n",
    "kf = KFold(n_splits=10)\n",
    "kf.get_n_splits(X)\n",
    "\n",
    "RMSE=[]\n",
    "\n",
    "for train_index, test_index in kf.split(X):\n",
    "    X_train, X_test = X[train_index], X[test_index]\n",
    "    y_train, y_test = y[train_index], y[test_index]\n",
    "#     lm = LinearRegression()\n",
    "#     lm.fit(X_train,y_train)\n",
    "    model = ensemble.GradientBoostingRegressor(random_state=1)\n",
    "    model.fit(X_train, y_train)\n",
    "    predictions = model.predict(X_test)\n",
    "    temp_RMSE = np.sqrt(metrics.mean_squared_error(y_test, predictions))\n",
    "    RMSE.append(temp_RMSE)\n",
    "#     print(temp_RMSE)\n",
    "\n",
    "\n",
    "    \n",
    "print ('Average RMSE 10 fold cross validation Xg: %f'%np.mean(RMSE))\n",
    "\n",
    "\n",
    "RMSE=[]\n",
    "# print(\"leave one out\")\n",
    "\n",
    "from sklearn.model_selection import LeaveOneOut\n",
    "loo = LeaveOneOut()\n",
    "loo.get_n_splits(X)\n",
    "\n",
    "# print(loo)\n",
    "coef_list = []\n",
    "for train_index, test_index in loo.split(X):\n",
    "#    print(\"TRAIN:\", train_index, \"TEST:\", test_index)\n",
    "    X_train, X_test = X[train_index], X[test_index]\n",
    "    y_train, y_test = y[train_index], y[test_index]\n",
    "#    print(X_train, X_test, y_train, y_test)\n",
    "\n",
    "    model = ensemble.GradientBoostingRegressor(random_state=1)\n",
    "    model.fit(X_train, y_train)\n",
    "    predictions = model.predict(X_test)\n",
    "    temp_RMSE = np.sqrt(metrics.mean_squared_error(y_test, predictions))\n",
    "    RMSE.append(temp_RMSE)\n",
    "#     print(lm.coef_)\n",
    "#     coef_list.append(lm.coef_)\n",
    "#     print(temp_RMSE)\n",
    "print ('Average Xg Leave one out : %f'%np.mean(RMSE))\n",
    "print ('RMSE Vet : %f'%np.mean(np.sqrt(metrics.mean_squared_error(Vet, y))))\n",
    "print (column_name)\n",
    "# print ('Average Coef')\n",
    "# coef_list = np.matrix(coef_list)\n",
    "# coef_list = np.absolute(coef_list)\n",
    "# # print(column_name)\n",
    "# x = coef_list.mean(0)\n",
    "# # print (x)\n",
    "# array_x = np.array(x)\n",
    "# # print(array_x)\n",
    "\n",
    "# coeff_df = pd.DataFrame(array_x[0],column_name,columns=['Coef'])\n",
    "# coeff_df = coeff_df.sort_values(by=['Coef'], ascending=False)\n",
    "# print(coeff_df)"
   ]
  },
  {
   "cell_type": "code",
   "execution_count": null,
   "metadata": {
    "collapsed": true
   },
   "outputs": [],
   "source": [
    "\n"
   ]
  }
 ],
 "metadata": {
  "kernelspec": {
   "display_name": "Python 3",
   "language": "python",
   "name": "python3"
  },
  "language_info": {
   "codemirror_mode": {
    "name": "ipython",
    "version": 3
   },
   "file_extension": ".py",
   "mimetype": "text/x-python",
   "name": "python",
   "nbconvert_exporter": "python",
   "pygments_lexer": "ipython3",
   "version": "3.6.3"
  }
 },
 "nbformat": 4,
 "nbformat_minor": 2
}

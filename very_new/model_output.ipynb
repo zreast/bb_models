{
 "cells": [
  {
   "cell_type": "code",
   "execution_count": 1,
   "metadata": {
    "collapsed": true
   },
   "outputs": [],
   "source": [
    "from sklearn.model_selection import KFold\n",
    "from sklearn import metrics\n",
    "import numpy as np\n",
    "import pandas as pd\n",
    "import matplotlib.pyplot as plt\n",
    "import seaborn as sns\n",
    "from sklearn.preprocessing import StandardScaler\n",
    "from sklearn.linear_model import LinearRegression\n",
    "from scipy import stats\n",
    "from sklearn.externals import joblib"
   ]
  },
  {
   "cell_type": "code",
   "execution_count": 4,
   "metadata": {
    "collapsed": true
   },
   "outputs": [],
   "source": [
    "#Read data\n",
    "df = pd.read_csv('fill.csv')\n",
    "\n",
    "#For Volume Prediction\n",
    "X_VOL = df[['Weight', 'PCV', 'PCV\\ndonor', 'PCV_target']]\n",
    "y_VOL = df['Volume']\n",
    "\n",
    "#For PCV Predicion\n",
    "X_PCV = df[['Weight', 'PCV', 'PCV\\ndonor', 'Volume']]\n",
    "y_PCV = df['PCV_afterdonation']\n",
    "\n",
    "\n",
    "\n",
    "X_VOL = np.array(X_VOL)\n",
    "y_VOL = np.array(y_VOL)\n",
    "\n",
    "X_PCV = np.array(X_PCV)\n",
    "y_PCV = np.array(y_PCV)\n",
    "\n",
    "scaler_VOL = StandardScaler()\n",
    "scaler_VOL.fit(X_VOL)\n",
    "X_VOL = scaler_VOL.transform(X_VOL)\n",
    "\n",
    "scaler_PCV = StandardScaler()\n",
    "scaler_PCV.fit(X_PCV)\n",
    "X_PCV = scaler_PCV.transform(X_PCV)"
   ]
  },
  {
   "cell_type": "code",
   "execution_count": 5,
   "metadata": {},
   "outputs": [
    {
     "data": {
      "text/plain": [
       "['scaler_PCV.pkl']"
      ]
     },
     "execution_count": 5,
     "metadata": {},
     "output_type": "execute_result"
    }
   ],
   "source": [
    "#Export scaler\n",
    "joblib.dump(scaler_VOL, 'scaler_VOL.pkl')\n",
    "joblib.dump(scaler_PCV, 'scaler_PCV.pkl')\n"
   ]
  },
  {
   "cell_type": "code",
   "execution_count": 6,
   "metadata": {},
   "outputs": [
    {
     "data": {
      "text/plain": [
       "['model_PCV_LR.pkl']"
      ]
     },
     "execution_count": 6,
     "metadata": {},
     "output_type": "execute_result"
    }
   ],
   "source": [
    "#LR\n",
    "model_VOL = LinearRegression()\n",
    "model_VOL.fit(X_VOL,y_VOL)\n",
    "\n",
    "\n",
    "model_PCV = LinearRegression()\n",
    "model_PCV.fit(X_PCV,y_PCV)\n",
    "\n",
    "joblib.dump(model_VOL, 'model_VOL_LR.pkl')\n",
    "joblib.dump(model_PCV, 'model_PCV_LR.pkl')\n",
    "\n",
    "\n",
    "\n",
    "\n",
    "\n"
   ]
  },
  {
   "cell_type": "code",
   "execution_count": 7,
   "metadata": {},
   "outputs": [
    {
     "name": "stdout",
     "output_type": "stream",
     "text": [
      "5598.68255052\n",
      "4571.54899082\n",
      "4742.42612548\n",
      "4728.1111146\n",
      "4759.94848463\n",
      "4757.15035475\n",
      "4795.55738595\n",
      "50\n",
      "49.5532670884\n",
      "40.4874543379\n",
      "38.3744850386\n",
      "38.3725580156\n",
      "39.527172598\n",
      "40.6976878005\n",
      "42.2712009026\n",
      "150\n"
     ]
    }
   ],
   "source": [
    "from sklearn import ensemble\n",
    "optimal_estimator = [10,50,100,150,200,250,300]\n",
    "\n",
    "MSE = 1000000\n",
    "temp_var_vol = 10000\n",
    "for i in optimal_estimator:\n",
    "    kf = KFold(n_splits=10)\n",
    "    kf.get_n_splits(X_VOL)\n",
    "    \n",
    "    local_MSE = []\n",
    "    for train_index, test_index in kf.split(X_VOL):\n",
    "        X_train, X_test = X_VOL[train_index], X_VOL[test_index]\n",
    "        y_train, y_test = y_VOL[train_index], y_VOL[test_index]\n",
    "        model = ensemble.GradientBoostingRegressor(random_state=1,max_depth=1,n_estimators=i)\n",
    "        model.fit(X_train, y_train)\n",
    "        predictions = model.predict(X_test)\n",
    "        x_temp = (metrics.mean_squared_error(y_test, predictions))\n",
    "        local_MSE.append(x_temp)\n",
    "    x = np.mean(local_MSE)\n",
    "    print(x)\n",
    "    if x < MSE:\n",
    "        MSE = x\n",
    "        temp_var_vol = i\n",
    "        \n",
    "print(temp_var_vol)\n",
    "\n",
    "\n",
    "MSE = 1000000\n",
    "temp_var_pcv = 10000\n",
    "for i in optimal_estimator:\n",
    "    kf = KFold(n_splits=10)\n",
    "    kf.get_n_splits(X_PCV)\n",
    "    \n",
    "    local_MSE = []\n",
    "    for train_index, test_index in kf.split(X_PCV):\n",
    "        X_train, X_test = X_PCV[train_index], X_VOL[test_index]\n",
    "        y_train, y_test = y_PCV[train_index], y_PCV[test_index]\n",
    "        model = ensemble.GradientBoostingRegressor(random_state=1,max_depth=1,n_estimators=i)\n",
    "        model.fit(X_train, y_train)\n",
    "        predictions = model.predict(X_test)\n",
    "        x_temp = (metrics.mean_squared_error(y_test, predictions))\n",
    "        local_MSE.append(x_temp)\n",
    "    x = np.mean(local_MSE)\n",
    "    print(x)\n",
    "    if x < MSE:\n",
    "        MSE = x\n",
    "        temp_var_pcv = i\n",
    "        \n",
    "print(temp_var_pcv)\n",
    "\n",
    "\n",
    "\n"
   ]
  },
  {
   "cell_type": "code",
   "execution_count": 8,
   "metadata": {},
   "outputs": [
    {
     "name": "stdout",
     "output_type": "stream",
     "text": [
      "50\n",
      "150\n"
     ]
    }
   ],
   "source": [
    "print(temp_var_vol)\n",
    "print(temp_var_pcv)"
   ]
  },
  {
   "cell_type": "code",
   "execution_count": 9,
   "metadata": {},
   "outputs": [
    {
     "data": {
      "text/plain": [
       "['model_PCV_XG.pkl']"
      ]
     },
     "execution_count": 9,
     "metadata": {},
     "output_type": "execute_result"
    }
   ],
   "source": [
    "model_VOL_XG = ensemble.GradientBoostingRegressor(random_state=1,max_depth=1,n_estimators=50)\n",
    "model_VOL_XG.fit(X_VOL,y_VOL)\n",
    "\n",
    "\n",
    "model_PCV_XG = ensemble.GradientBoostingRegressor(random_state=1,max_depth=1,n_estimators=150)\n",
    "model_PCV_XG.fit(X_PCV,y_PCV)\n",
    "\n",
    "joblib.dump(model_VOL_XG, 'model_VOL_XG.pkl')\n",
    "joblib.dump(model_PCV_XG, 'model_PCV_XG.pkl')"
   ]
  },
  {
   "cell_type": "code",
   "execution_count": 10,
   "metadata": {},
   "outputs": [
    {
     "name": "stdout",
     "output_type": "stream",
     "text": [
      "16315.6174756\n",
      "16314.7631754\n",
      "16306.2189759\n",
      "16222.079261\n",
      "15511.1713709\n",
      "11427.8282726\n",
      "10339.6749014\n",
      "12380.8585607\n",
      "12750.3903792\n",
      "12533.2879607\n",
      "12533.8678999\n",
      "1\n",
      "67.0290678381\n",
      "67.0083658413\n",
      "66.8018016354\n",
      "64.7948524432\n",
      "50.6358694748\n",
      "32.6522995634\n",
      "29.993426286\n",
      "30.3316997974\n",
      "30.3307038414\n",
      "30.3142088974\n",
      "30.2547866729\n",
      "1\n"
     ]
    }
   ],
   "source": [
    "from sklearn.svm import SVR\n",
    "optimal_estimator = [10,50,100,150,200,250,300]\n",
    "epsilon = 0\n",
    "\n",
    "MSE = 1000000\n",
    "temp_var_vol = 10000\n",
    "for i in range(-5, 6):\n",
    "    kf = KFold(n_splits=10)\n",
    "    kf.get_n_splits(X_VOL)\n",
    "    \n",
    "    local_MSE = []\n",
    "    for train_index, test_index in kf.split(X_VOL):\n",
    "        X_train, X_test = X_VOL[train_index], X_VOL[test_index]\n",
    "        y_train, y_test = y_VOL[train_index], y_VOL[test_index]\n",
    "        model = SVR(C=10**i,kernel='linear',epsilon = epsilon)\n",
    "        model.fit(X_train, y_train)\n",
    "        predictions = model.predict(X_test)\n",
    "        x_temp = (metrics.mean_squared_error(y_test, predictions))\n",
    "        local_MSE.append(x_temp)\n",
    "    x = np.mean(local_MSE)\n",
    "    print(x)\n",
    "    if x < MSE:\n",
    "        MSE = x\n",
    "        temp_var_vol = i\n",
    "        \n",
    "print(temp_var_vol)\n",
    "\n",
    "\n",
    "MSE = 1000000\n",
    "temp_var_pcv = 10000\n",
    "for i in range(-5, 6):\n",
    "    kf = KFold(n_splits=10)\n",
    "    kf.get_n_splits(X_PCV)\n",
    "    \n",
    "    local_MSE = []\n",
    "    for train_index, test_index in kf.split(X_PCV):\n",
    "        X_train, X_test = X_PCV[train_index], X_VOL[test_index]\n",
    "        y_train, y_test = y_PCV[train_index], y_PCV[test_index]\n",
    "        model = SVR(C=10**i,kernel='linear',epsilon = epsilon)\n",
    "        model.fit(X_train, y_train)\n",
    "        predictions = model.predict(X_test)\n",
    "        x_temp = (metrics.mean_squared_error(y_test, predictions))\n",
    "        local_MSE.append(x_temp)\n",
    "    x = np.mean(local_MSE)\n",
    "    print(x)\n",
    "    if x < MSE:\n",
    "        MSE = x\n",
    "        temp_var_pcv = i\n",
    "        \n",
    "print(temp_var_pcv)"
   ]
  },
  {
   "cell_type": "code",
   "execution_count": 10,
   "metadata": {},
   "outputs": [
    {
     "name": "stdout",
     "output_type": "stream",
     "text": [
      "1\n",
      "1\n"
     ]
    }
   ],
   "source": [
    "print(temp_var_vol)\n",
    "print(temp_var_pcv)"
   ]
  },
  {
   "cell_type": "code",
   "execution_count": 11,
   "metadata": {},
   "outputs": [
    {
     "data": {
      "text/plain": [
       "['model_PCV_SVR.pkl']"
      ]
     },
     "execution_count": 11,
     "metadata": {},
     "output_type": "execute_result"
    }
   ],
   "source": [
    "model_VOL_SVR = SVR(C=10**1,kernel='linear',epsilon = epsilon)\n",
    "model_VOL_SVR.fit(X_VOL,y_VOL)\n",
    "\n",
    "\n",
    "model_PCV_SVR = SVR(C=10**1,kernel='linear',epsilon = epsilon)\n",
    "model_PCV_SVR.fit(X_PCV,y_PCV)\n",
    "\n",
    "joblib.dump(model_VOL_SVR, 'model_VOL_SVR.pkl')\n",
    "joblib.dump(model_PCV_SVR, 'model_PCV_SVR.pkl')"
   ]
  },
  {
   "cell_type": "code",
   "execution_count": 12,
   "metadata": {},
   "outputs": [
    {
     "name": "stdout",
     "output_type": "stream",
     "text": [
      "9787.50368879\n",
      "9787.48838228\n",
      "9787.33535714\n",
      "9785.80909425\n",
      "9770.9379477\n",
      "9655.05939511\n",
      "9513.10278216\n",
      "10833.2250863\n",
      "13481.8165701\n",
      "14143.6360173\n",
      "14218.8776185\n",
      "1\n",
      "34.0052538958\n",
      "34.0051974898\n",
      "34.004633587\n",
      "33.9990102299\n",
      "33.9443265103\n",
      "33.5366584273\n",
      "35.344231128\n",
      "52.5495644015\n",
      "61.703550613\n",
      "63.1146565098\n",
      "63.2646817721\n",
      "0\n"
     ]
    }
   ],
   "source": [
    "from sklearn import linear_model\n",
    "optimal_estimator = [10,50,100,150,200,250,300]\n",
    "epsilon = 0\n",
    "\n",
    "MSE = 1000000\n",
    "temp_var_vol = 10000\n",
    "for i in range(-5, 6):\n",
    "    kf = KFold(n_splits=10)\n",
    "    kf.get_n_splits(X_VOL)\n",
    "    \n",
    "    local_MSE = []\n",
    "    for train_index, test_index in kf.split(X_VOL):\n",
    "        X_train, X_test = X_VOL[train_index], X_VOL[test_index]\n",
    "        y_train, y_test = y_VOL[train_index], y_VOL[test_index]\n",
    "        model = linear_model.Ridge (alpha = 10**i)\n",
    "        model.fit(X_train, y_train)\n",
    "        predictions = model.predict(X_test)\n",
    "        x_temp = (metrics.mean_squared_error(y_test, predictions))\n",
    "        local_MSE.append(x_temp)\n",
    "    x = np.mean(local_MSE)\n",
    "    print(x)\n",
    "    if x < MSE:\n",
    "        MSE = x\n",
    "        temp_var_vol = i\n",
    "        \n",
    "print(temp_var_vol)\n",
    "\n",
    "\n",
    "MSE = 1000000\n",
    "temp_var_pcv = 10000\n",
    "for i in range(-5, 6):\n",
    "    kf = KFold(n_splits=10)\n",
    "    kf.get_n_splits(X_PCV)\n",
    "    \n",
    "    local_MSE = []\n",
    "    for train_index, test_index in kf.split(X_PCV):\n",
    "        X_train, X_test = X_PCV[train_index], X_VOL[test_index]\n",
    "        y_train, y_test = y_PCV[train_index], y_PCV[test_index]\n",
    "        model = linear_model.Ridge (alpha = 10**i)\n",
    "        model.fit(X_train, y_train)\n",
    "        predictions = model.predict(X_test)\n",
    "        x_temp = (metrics.mean_squared_error(y_test, predictions))\n",
    "        local_MSE.append(x_temp)\n",
    "    x = np.mean(local_MSE)\n",
    "    print(x)\n",
    "    if x < MSE:\n",
    "        MSE = x\n",
    "        temp_var_pcv = i\n",
    "        \n",
    "print(temp_var_pcv)"
   ]
  },
  {
   "cell_type": "code",
   "execution_count": 12,
   "metadata": {},
   "outputs": [
    {
     "name": "stdout",
     "output_type": "stream",
     "text": [
      "1\n",
      "0\n"
     ]
    }
   ],
   "source": [
    "print(temp_var_vol)\n",
    "print(temp_var_pcv)"
   ]
  },
  {
   "cell_type": "code",
   "execution_count": 13,
   "metadata": {},
   "outputs": [
    {
     "data": {
      "text/plain": [
       "['model_PCV_ridge.pkl']"
      ]
     },
     "execution_count": 13,
     "metadata": {},
     "output_type": "execute_result"
    }
   ],
   "source": [
    "model_VOL_ridge = linear_model.Ridge (alpha = 10**1)\n",
    "model_VOL_ridge.fit(X_VOL,y_VOL)\n",
    "\n",
    "\n",
    "model_PCV_ridge = linear_model.Ridge (alpha = 10**0)\n",
    "model_PCV_ridge.fit(X_PCV,y_PCV)\n",
    "\n",
    "joblib.dump(model_VOL_ridge, 'model_VOL_ridge.pkl')\n",
    "joblib.dump(model_PCV_ridge, 'model_PCV_ridge.pkl')"
   ]
  }
 ],
 "metadata": {
  "kernelspec": {
   "display_name": "Python 3",
   "language": "python",
   "name": "python3"
  },
  "language_info": {
   "codemirror_mode": {
    "name": "ipython",
    "version": 3
   },
   "file_extension": ".py",
   "mimetype": "text/x-python",
   "name": "python",
   "nbconvert_exporter": "python",
   "pygments_lexer": "ipython3",
   "version": "3.6.3"
  }
 },
 "nbformat": 4,
 "nbformat_minor": 2
}

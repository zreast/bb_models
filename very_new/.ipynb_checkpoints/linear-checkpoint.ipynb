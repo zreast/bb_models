{
 "cells": [
  {
   "cell_type": "code",
   "execution_count": 212,
   "metadata": {
    "collapsed": true
   },
   "outputs": [],
   "source": [
    "import numpy as np\n",
    "import pandas as pd\n",
    "import matplotlib.pyplot as plt\n",
    "import seaborn as sns\n",
    "from sklearn.preprocessing import StandardScaler\n",
    "%matplotlib inline"
   ]
  },
  {
   "cell_type": "code",
   "execution_count": 213,
   "metadata": {},
   "outputs": [
    {
     "data": {
      "text/html": [
       "<div>\n",
       "<style>\n",
       "    .dataframe thead tr:only-child th {\n",
       "        text-align: right;\n",
       "    }\n",
       "\n",
       "    .dataframe thead th {\n",
       "        text-align: left;\n",
       "    }\n",
       "\n",
       "    .dataframe tbody tr th {\n",
       "        vertical-align: top;\n",
       "    }\n",
       "</style>\n",
       "<table border=\"1\" class=\"dataframe\">\n",
       "  <thead>\n",
       "    <tr style=\"text-align: right;\">\n",
       "      <th></th>\n",
       "      <th>No</th>\n",
       "      <th>Date</th>\n",
       "      <th>OPD</th>\n",
       "      <th>Name</th>\n",
       "      <th>Gender</th>\n",
       "      <th>Age</th>\n",
       "      <th>Bleed</th>\n",
       "      <th>Weight</th>\n",
       "      <th>PCV</th>\n",
       "      <th>WBC</th>\n",
       "      <th>...</th>\n",
       "      <th>PCV\n",
       "donor</th>\n",
       "      <th>product</th>\n",
       "      <th>Volume</th>\n",
       "      <th>________\n",
       "(___ file _________)</th>\n",
       "      <th>PCV_target</th>\n",
       "      <th>PCV_Sucess</th>\n",
       "      <th>PCV_afterdonation</th>\n",
       "      <th>WBC_afterdoantion</th>\n",
       "      <th>________\n",
       "(_______).1</th>\n",
       "      <th>____ file\n",
       "(_______).1</th>\n",
       "    </tr>\n",
       "  </thead>\n",
       "  <tbody>\n",
       "    <tr>\n",
       "      <th>0</th>\n",
       "      <td>43</td>\n",
       "      <td>7-Jan-16</td>\n",
       "      <td>59000086</td>\n",
       "      <td>___</td>\n",
       "      <td>M</td>\n",
       "      <td>0</td>\n",
       "      <td>CROSSBREED</td>\n",
       "      <td>3.4</td>\n",
       "      <td>10.0</td>\n",
       "      <td>12.77</td>\n",
       "      <td>...</td>\n",
       "      <td>57.0</td>\n",
       "      <td>SWB</td>\n",
       "      <td>100</td>\n",
       "      <td>NaN</td>\n",
       "      <td>28.627451</td>\n",
       "      <td>23.6</td>\n",
       "      <td>23.6</td>\n",
       "      <td>9.05</td>\n",
       "      <td>PCV 24</td>\n",
       "      <td>_a59\\1.txt</td>\n",
       "    </tr>\n",
       "    <tr>\n",
       "      <th>1</th>\n",
       "      <td>44</td>\n",
       "      <td>20-Jan-16</td>\n",
       "      <td>59000236</td>\n",
       "      <td>______</td>\n",
       "      <td>F</td>\n",
       "      <td>0</td>\n",
       "      <td>CROSSBREED</td>\n",
       "      <td>5.2</td>\n",
       "      <td>9.7</td>\n",
       "      <td>16.83</td>\n",
       "      <td>...</td>\n",
       "      <td>57.0</td>\n",
       "      <td>SWB</td>\n",
       "      <td>100</td>\n",
       "      <td>NaN</td>\n",
       "      <td>21.879487</td>\n",
       "      <td>15.1</td>\n",
       "      <td>15.1</td>\n",
       "      <td>12.08</td>\n",
       "      <td>pcv 14</td>\n",
       "      <td>_a59\\4.txt</td>\n",
       "    </tr>\n",
       "    <tr>\n",
       "      <th>2</th>\n",
       "      <td>45</td>\n",
       "      <td>5-Feb-16</td>\n",
       "      <td>58000859</td>\n",
       "      <td>Filou</td>\n",
       "      <td>M</td>\n",
       "      <td>0</td>\n",
       "      <td>SHIH TZU</td>\n",
       "      <td>9.1</td>\n",
       "      <td>2.4</td>\n",
       "      <td>46.47</td>\n",
       "      <td>...</td>\n",
       "      <td>56.0</td>\n",
       "      <td>PRC</td>\n",
       "      <td>200</td>\n",
       "      <td>IMHA</td>\n",
       "      <td>16.075214</td>\n",
       "      <td>7.6</td>\n",
       "      <td>4.2</td>\n",
       "      <td>47.6</td>\n",
       "      <td>0</td>\n",
       "      <td>_a59\\5.txt</td>\n",
       "    </tr>\n",
       "    <tr>\n",
       "      <th>3</th>\n",
       "      <td>46</td>\n",
       "      <td>13-Feb-16</td>\n",
       "      <td>58005333</td>\n",
       "      <td>_______</td>\n",
       "      <td>M</td>\n",
       "      <td>0</td>\n",
       "      <td>CROSSBREED</td>\n",
       "      <td>16.0</td>\n",
       "      <td>7.9</td>\n",
       "      <td>15.23</td>\n",
       "      <td>...</td>\n",
       "      <td>42.5</td>\n",
       "      <td>SWB</td>\n",
       "      <td>300</td>\n",
       "      <td>NaN</td>\n",
       "      <td>16.754167</td>\n",
       "      <td>12.3</td>\n",
       "      <td>12.3</td>\n",
       "      <td>14.26</td>\n",
       "      <td>0</td>\n",
       "      <td>_a59\\6.txt</td>\n",
       "    </tr>\n",
       "    <tr>\n",
       "      <th>4</th>\n",
       "      <td>49</td>\n",
       "      <td>17-Feb-16</td>\n",
       "      <td>59000758</td>\n",
       "      <td>_______</td>\n",
       "      <td>M</td>\n",
       "      <td>0</td>\n",
       "      <td>SIBERIAN HUSKY</td>\n",
       "      <td>8.2</td>\n",
       "      <td>12.9</td>\n",
       "      <td>72.60</td>\n",
       "      <td>...</td>\n",
       "      <td>46.0</td>\n",
       "      <td>SWB</td>\n",
       "      <td>350</td>\n",
       "      <td>NaN</td>\n",
       "      <td>34.715718</td>\n",
       "      <td>36.7</td>\n",
       "      <td>36.7</td>\n",
       "      <td>85.86</td>\n",
       "      <td>0</td>\n",
       "      <td>_a59\\8.txt</td>\n",
       "    </tr>\n",
       "  </tbody>\n",
       "</table>\n",
       "<p>5 rows × 39 columns</p>\n",
       "</div>"
      ],
      "text/plain": [
       "   No       Date       OPD     Name Gender  Age           Bleed  Weight   PCV  \\\n",
       "0  43   7-Jan-16  59000086      ___      M    0      CROSSBREED     3.4  10.0   \n",
       "1  44  20-Jan-16  59000236   ______      F    0      CROSSBREED     5.2   9.7   \n",
       "2  45   5-Feb-16  58000859    Filou      M    0        SHIH TZU     9.1   2.4   \n",
       "3  46  13-Feb-16  58005333  _______      M    0      CROSSBREED    16.0   7.9   \n",
       "4  49  17-Feb-16  59000758  _______      M    0  SIBERIAN HUSKY     8.2  12.9   \n",
       "\n",
       "     WBC           ...            PCV\\ndonor  product  Volume  \\\n",
       "0  12.77           ...                  57.0      SWB     100   \n",
       "1  16.83           ...                  57.0      SWB     100   \n",
       "2  46.47           ...                  56.0      PRC     200   \n",
       "3  15.23           ...                  42.5      SWB     300   \n",
       "4  72.60           ...                  46.0      SWB     350   \n",
       "\n",
       "   ________\\n(___ file _________)  PCV_target  PCV_Sucess  PCV_afterdonation  \\\n",
       "0                             NaN   28.627451        23.6               23.6   \n",
       "1                             NaN   21.879487        15.1               15.1   \n",
       "2                            IMHA   16.075214         7.6                4.2   \n",
       "3                             NaN   16.754167        12.3               12.3   \n",
       "4                             NaN   34.715718        36.7               36.7   \n",
       "\n",
       "   WBC_afterdoantion  ________\\n(_______).1  ____ file\\n(_______).1  \n",
       "0               9.05                 PCV 24              _a59\\1.txt  \n",
       "1              12.08                 pcv 14              _a59\\4.txt  \n",
       "2               47.6                      0              _a59\\5.txt  \n",
       "3              14.26                      0              _a59\\6.txt  \n",
       "4              85.86                      0              _a59\\8.txt  \n",
       "\n",
       "[5 rows x 39 columns]"
      ]
     },
     "execution_count": 213,
     "metadata": {},
     "output_type": "execute_result"
    }
   ],
   "source": [
    "df = pd.read_csv('data.csv')\n",
    "df.head()"
   ]
  },
  {
   "cell_type": "code",
   "execution_count": 214,
   "metadata": {},
   "outputs": [
    {
     "data": {
      "text/plain": [
       "Index(['No', 'Date', 'OPD', 'Name', 'Gender', 'Age', 'Bleed', 'Weight', 'PCV',\n",
       "       'WBC', 'PLT\\n______', 'Creatinine', 'ALT', 'Snap4Dx', 'PLATELETS',\n",
       "       'HGB', 'RBC', 'MCV', 'MCHC', 'MCH', 'SEGS', 'LYMPH', 'MONO',\n",
       "       'PROTEIN (REFRACT)', 'RDW', '________\\n(_______)',\n",
       "       '____ file\\n(_______)', 'crossmatch_result', 'donor_name', 'PCV\\ndonor',\n",
       "       'product', 'Volume', '________\\n(___ file _________)', 'PCV_target',\n",
       "       'PCV_Sucess', 'PCV_afterdonation', 'WBC_afterdoantion',\n",
       "       '________\\n(_______).1', '____ file\\n(_______).1'],\n",
       "      dtype='object')"
      ]
     },
     "execution_count": 214,
     "metadata": {},
     "output_type": "execute_result"
    }
   ],
   "source": [
    "df.columns"
   ]
  },
  {
   "cell_type": "code",
   "execution_count": 215,
   "metadata": {
    "collapsed": true
   },
   "outputs": [],
   "source": [
    "X = df[['Weight','PCV','WBC','PLT\\n______','PLATELETS','HGB','RBC','MCV','MCHC','MCH','SEGS','LYMPH','MONO','PROTEIN (REFRACT)','RDW']]\n",
    "y = df['PCV_afterdonation']"
   ]
  },
  {
   "cell_type": "code",
   "execution_count": 216,
   "metadata": {
    "collapsed": true
   },
   "outputs": [],
   "source": [
    "from sklearn.model_selection import train_test_split"
   ]
  },
  {
   "cell_type": "code",
   "execution_count": 217,
   "metadata": {
    "collapsed": true
   },
   "outputs": [],
   "source": [
    "X_train, X_test, y_train, y_test = train_test_split(X, y, test_size=0.1, random_state=101)"
   ]
  },
  {
   "cell_type": "code",
   "execution_count": 218,
   "metadata": {
    "collapsed": true
   },
   "outputs": [],
   "source": [
    "from sklearn.linear_model import LinearRegression"
   ]
  },
  {
   "cell_type": "code",
   "execution_count": 219,
   "metadata": {
    "collapsed": true
   },
   "outputs": [],
   "source": [
    "lm = LinearRegression()"
   ]
  },
  {
   "cell_type": "code",
   "execution_count": 220,
   "metadata": {},
   "outputs": [
    {
     "data": {
      "text/plain": [
       "LinearRegression(copy_X=True, fit_intercept=True, n_jobs=1, normalize=False)"
      ]
     },
     "execution_count": 220,
     "metadata": {},
     "output_type": "execute_result"
    }
   ],
   "source": [
    "lm.fit(X_train,y_train)"
   ]
  },
  {
   "cell_type": "code",
   "execution_count": 221,
   "metadata": {},
   "outputs": [
    {
     "name": "stdout",
     "output_type": "stream",
     "text": [
      "35.5749889979\n"
     ]
    }
   ],
   "source": [
    "print(lm.intercept_)"
   ]
  },
  {
   "cell_type": "code",
   "execution_count": 222,
   "metadata": {},
   "outputs": [
    {
     "data": {
      "text/html": [
       "<div>\n",
       "<style>\n",
       "    .dataframe thead tr:only-child th {\n",
       "        text-align: right;\n",
       "    }\n",
       "\n",
       "    .dataframe thead th {\n",
       "        text-align: left;\n",
       "    }\n",
       "\n",
       "    .dataframe tbody tr th {\n",
       "        vertical-align: top;\n",
       "    }\n",
       "</style>\n",
       "<table border=\"1\" class=\"dataframe\">\n",
       "  <thead>\n",
       "    <tr style=\"text-align: right;\">\n",
       "      <th></th>\n",
       "      <th>C</th>\n",
       "    </tr>\n",
       "  </thead>\n",
       "  <tbody>\n",
       "    <tr>\n",
       "      <th>RBC</th>\n",
       "      <td>1.567853</td>\n",
       "    </tr>\n",
       "    <tr>\n",
       "      <th>HGB</th>\n",
       "      <td>0.906602</td>\n",
       "    </tr>\n",
       "    <tr>\n",
       "      <th>PCV</th>\n",
       "      <td>0.570424</td>\n",
       "    </tr>\n",
       "    <tr>\n",
       "      <th>MCH</th>\n",
       "      <td>0.436580</td>\n",
       "    </tr>\n",
       "    <tr>\n",
       "      <th>LYMPH</th>\n",
       "      <td>0.040310</td>\n",
       "    </tr>\n",
       "    <tr>\n",
       "      <th>PLT\\n______</th>\n",
       "      <td>-0.002711</td>\n",
       "    </tr>\n",
       "    <tr>\n",
       "      <th>PLATELETS</th>\n",
       "      <td>-0.005550</td>\n",
       "    </tr>\n",
       "    <tr>\n",
       "      <th>SEGS</th>\n",
       "      <td>-0.010332</td>\n",
       "    </tr>\n",
       "    <tr>\n",
       "      <th>MCV</th>\n",
       "      <td>-0.015991</td>\n",
       "    </tr>\n",
       "    <tr>\n",
       "      <th>WBC</th>\n",
       "      <td>-0.017568</td>\n",
       "    </tr>\n",
       "    <tr>\n",
       "      <th>RDW</th>\n",
       "      <td>-0.093711</td>\n",
       "    </tr>\n",
       "    <tr>\n",
       "      <th>MONO</th>\n",
       "      <td>-0.145733</td>\n",
       "    </tr>\n",
       "    <tr>\n",
       "      <th>Weight</th>\n",
       "      <td>-0.314596</td>\n",
       "    </tr>\n",
       "    <tr>\n",
       "      <th>MCHC</th>\n",
       "      <td>-0.662358</td>\n",
       "    </tr>\n",
       "    <tr>\n",
       "      <th>PROTEIN (REFRACT)</th>\n",
       "      <td>-0.805239</td>\n",
       "    </tr>\n",
       "  </tbody>\n",
       "</table>\n",
       "</div>"
      ],
      "text/plain": [
       "                          C\n",
       "RBC                1.567853\n",
       "HGB                0.906602\n",
       "PCV                0.570424\n",
       "MCH                0.436580\n",
       "LYMPH              0.040310\n",
       "PLT\\n______       -0.002711\n",
       "PLATELETS         -0.005550\n",
       "SEGS              -0.010332\n",
       "MCV               -0.015991\n",
       "WBC               -0.017568\n",
       "RDW               -0.093711\n",
       "MONO              -0.145733\n",
       "Weight            -0.314596\n",
       "MCHC              -0.662358\n",
       "PROTEIN (REFRACT) -0.805239"
      ]
     },
     "execution_count": 222,
     "metadata": {},
     "output_type": "execute_result"
    }
   ],
   "source": [
    "coeff_df = pd.DataFrame(lm.coef_,X.columns,columns=['C'])\n",
    "coeff_df.sort_values(by=['C'], ascending=False)"
   ]
  },
  {
   "cell_type": "code",
   "execution_count": 223,
   "metadata": {
    "collapsed": true
   },
   "outputs": [],
   "source": [
    "predictions = lm.predict(X_test)"
   ]
  },
  {
   "cell_type": "code",
   "execution_count": 224,
   "metadata": {},
   "outputs": [
    {
     "data": {
      "text/plain": [
       "<matplotlib.collections.PathCollection at 0x1a14b3b6d8>"
      ]
     },
     "execution_count": 224,
     "metadata": {},
     "output_type": "execute_result"
    },
    {
     "data": {
      "image/png": "[encoded data removed]",
      "text/plain": [
       "<matplotlib.figure.Figure at 0x1a14f2ab00>"
      ]
     },
     "metadata": {},
     "output_type": "display_data"
    }
   ],
   "source": [
    "plt.scatter(y_test,predictions)"
   ]
  },
  {
   "cell_type": "code",
   "execution_count": 225,
   "metadata": {},
   "outputs": [
    {
     "data": {
      "image/png": "[encoded data removed]",
      "text/plain": [
       "<matplotlib.figure.Figure at 0x1a14a2e358>"
      ]
     },
     "metadata": {},
     "output_type": "display_data"
    }
   ],
   "source": [
    "sns.distplot((y_test-predictions),bins=50);"
   ]
  },
  {
   "cell_type": "code",
   "execution_count": 226,
   "metadata": {
    "collapsed": true
   },
   "outputs": [],
   "source": [
    "from sklearn import metrics"
   ]
  },
  {
   "cell_type": "code",
   "execution_count": 227,
   "metadata": {},
   "outputs": [
    {
     "name": "stdout",
     "output_type": "stream",
     "text": [
      "MAE: 11.3952622624\n",
      "MSE: 176.462353131\n",
      "RMSE: 13.2839133214\n"
     ]
    }
   ],
   "source": [
    "print('MAE:', metrics.mean_absolute_error(y_test, predictions))\n",
    "print('MSE:', metrics.mean_squared_error(y_test, predictions))\n",
    "print('RMSE:', np.sqrt(metrics.mean_squared_error(y_test, predictions)))"
   ]
  },
  {
   "cell_type": "code",
   "execution_count": 232,
   "metadata": {},
   "outputs": [
    {
     "name": "stdout",
     "output_type": "stream",
     "text": [
      "39.1411611211\n",
      "6.24333402229\n",
      "12.6267400686\n",
      "7.3901168151\n",
      "15.3624853884\n",
      "5.50767005236\n",
      "6.5237386281\n",
      "4.75982979655\n",
      "7.85877609426\n",
      "9.44137229561\n",
      "Average RMSE : 11.485522\n",
      "leave one out\n",
      "LeaveOneOut()\n",
      "89.2938736393\n",
      "4.98349053004\n",
      "4.81797195969\n",
      "7.57641057954\n",
      "22.8016296068\n",
      "1.35988101574\n",
      "9.08598690612\n",
      "3.07185379966\n",
      "7.15557795635\n",
      "8.41670711521\n",
      "0.0476551108817\n",
      "0.338319312897\n",
      "3.79045967154\n",
      "15.4220133764\n",
      "2.10059674148\n",
      "3.97128424431\n",
      "22.7587740535\n",
      "10.3316659704\n",
      "2.72714671676\n",
      "3.35000309999\n",
      "15.6330520615\n",
      "1.18119994118\n",
      "0.195925623701\n",
      "5.11145566543\n",
      "13.7377442095\n",
      "2.18517647751\n",
      "2.32929819333\n",
      "12.9160206873\n",
      "21.4845378668\n",
      "22.8186262409\n",
      "5.02541691357\n",
      "3.23019676152\n",
      "2.16223049959\n",
      "3.46949701956\n",
      "11.9198208195\n",
      "1.31424032931\n",
      "3.62324624998\n",
      "0.650033135703\n",
      "5.74615535091\n",
      "0.801355057489\n",
      "6.89119418443\n",
      "1.73622065897\n",
      "8.17530643821\n",
      "4.0570687671\n",
      "4.70400665604\n",
      "2.84418121082\n",
      "3.87172940758\n",
      "6.63048878384\n",
      "6.70969388617\n",
      "8.48876899064\n",
      "12.8453737573\n",
      "2.24462102895\n",
      "1.77135437809\n",
      "2.26079840426\n",
      "2.37727486512\n",
      "5.27180414291\n",
      "14.2968563063\n",
      "Average RMSE Leave one out : 7.966900\n"
     ]
    }
   ],
   "source": [
    "from sklearn.model_selection import KFold\n",
    "from sklearn import metrics\n",
    "import numpy as np\n",
    "import pandas as pd\n",
    "import matplotlib.pyplot as plt\n",
    "import seaborn as sns\n",
    "from sklearn.preprocessing import StandardScaler\n",
    "\n",
    "df = pd.read_csv('data.csv')\n",
    "\n",
    "X = df[['Weight','PCV','PCV\\ndonor','Volume','WBC','PLT\\n______','PLATELETS','HGB','RBC','MCV','MCHC','MCH','SEGS','LYMPH','MONO','PROTEIN (REFRACT)','RDW']]\n",
    "y = df['PCV_afterdonation']\n",
    "# X = df[['base_total','against_psychic','against_bug']]\n",
    "X = np.array(X)\n",
    "# y = df['attack']\n",
    "y = np.array(y)\n",
    "\n",
    "\n",
    "kf = KFold(n_splits=10)\n",
    "kf.get_n_splits(X)\n",
    "\n",
    "RMSE=[]\n",
    "\n",
    "for train_index, test_index in kf.split(X):\n",
    "    X_train, X_test = X[train_index], X[test_index]\n",
    "    y_train, y_test = y[train_index], y[test_index]\n",
    "    \n",
    "    lm = LinearRegression()\n",
    "    lm.fit(X_train,y_train)\n",
    "    predictions = lm.predict(X_test)\n",
    "    temp_RMSE = np.sqrt(metrics.mean_squared_error(y_test, predictions))\n",
    "    RMSE.append(temp_RMSE)\n",
    "    print(temp_RMSE)\n",
    "\n",
    "\n",
    "    \n",
    "print ('Average RMSE : %f'%np.mean(RMSE))\n",
    "\n",
    "\n",
    "RMSE=[]\n",
    "print(\"leave one out\")\n",
    "\n",
    "from sklearn.model_selection import LeaveOneOut\n",
    "loo = LeaveOneOut()\n",
    "loo.get_n_splits(X)\n",
    "\n",
    "print(loo)\n",
    "\n",
    "for train_index, test_index in loo.split(X):\n",
    "#    print(\"TRAIN:\", train_index, \"TEST:\", test_index)\n",
    "    X_train, X_test = X[train_index], X[test_index]\n",
    "    y_train, y_test = y[train_index], y[test_index]\n",
    "#    print(X_train, X_test, y_train, y_test)\n",
    "\n",
    "    lm = LinearRegression()\n",
    "    lm.fit(X_train,y_train)\n",
    "    predictions = lm.predict(X_test)\n",
    "    temp_RMSE = np.sqrt(metrics.mean_squared_error(y_test, predictions))\n",
    "    RMSE.append(temp_RMSE)\n",
    "    print(temp_RMSE)\n",
    "print ('Average RMSE Leave one out : %f'%np.mean(RMSE))"
   ]
  }
 ],
 "metadata": {
  "kernelspec": {
   "display_name": "Python 3",
   "language": "python",
   "name": "python3"
  },
  "language_info": {
   "codemirror_mode": {
    "name": "ipython",
    "version": 3
   },
   "file_extension": ".py",
   "mimetype": "text/x-python",
   "name": "python",
   "nbconvert_exporter": "python",
   "pygments_lexer": "ipython3",
   "version": "3.6.3"
  }
 },
 "nbformat": 4,
 "nbformat_minor": 2
}
